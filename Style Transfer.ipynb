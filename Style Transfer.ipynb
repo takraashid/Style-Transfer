{
 "cells": [
  {
   "cell_type": "markdown",
   "metadata": {},
   "source": [
    "# Neural Style Transfer"
   ]
  },
  {
   "cell_type": "code",
   "execution_count": null,
   "metadata": {
    "colab": {},
    "colab_type": "code",
    "id": "VQbe_gjxnb8q"
   },
   "outputs": [],
   "source": [
    "from PIL import Image\n",
    "import matplotlib.pyplot as plt\n",
    "import numpy as np\n",
    "\n",
    "import torch\n",
    "import torch.optim as optim\n",
    "from torchvision import transforms, models"
   ]
  },
  {
   "cell_type": "code",
   "execution_count": null,
   "metadata": {
    "colab": {
     "base_uri": "https://localhost:8080/",
     "height": 680
    },
    "colab_type": "code",
    "executionInfo": {
     "elapsed": 3378,
     "status": "ok",
     "timestamp": 1547132781067,
     "user": {
      "displayName": "Raashid Tak",
      "photoUrl": "",
      "userId": "07736395178387181349"
     },
     "user_tz": -330
    },
    "id": "a19wF1-3nm_y",
    "outputId": "376b82af-e841-422f-f065-405ec70188c9"
   },
   "outputs": [],
   "source": [
    "vgg = models.vgg19(pretrained = True).features\n",
    "\n",
    "for param in vgg.parameters():\n",
    "  param.requires_grad_(False)\n",
    "  \n",
    "device = torch.device(\"cuda\" if torch.cuda.is_available() else \"cpu\")\n",
    "vgg.to(device)"
   ]
  },
  {
   "cell_type": "code",
   "execution_count": null,
   "metadata": {
    "colab": {},
    "colab_type": "code",
    "id": "h26o4mc5olRy"
   },
   "outputs": [],
   "source": [
    "def load_image(img_path, max_size=400, shape=None):\n",
    "    \n",
    "    image = Image.open(img_path).convert('RGB')\n",
    "    \n",
    "   \n",
    "    if max(image.size) > max_size:\n",
    "        size = max_size\n",
    "    else:\n",
    "        size = max(image.size)\n",
    "    \n",
    "    if shape is not None:\n",
    "        size = shape\n",
    "        \n",
    "    in_transform = transforms.Compose([\n",
    "                        transforms.Resize(size),\n",
    "                        transforms.ToTensor(),\n",
    "                        transforms.Normalize((0.485, 0.456, 0.406), \n",
    "                                             (0.229, 0.224, 0.225))])\n",
    "\n",
    "    image = in_transform(image)[:3,:,:].unsqueeze(0)\n",
    "    \n",
    "    return image"
   ]
  },
  {
   "cell_type": "code",
   "execution_count": null,
   "metadata": {
    "colab": {},
    "colab_type": "code",
    "id": "sZCNQvklpwDx"
   },
   "outputs": [],
   "source": [
    "content = load_image('content.jpg').to(device)\n",
    "style = load_image('style.jpg', shape=content.shape[-2:]).to(device)"
   ]
  },
  {
   "cell_type": "code",
   "execution_count": null,
   "metadata": {
    "colab": {},
    "colab_type": "code",
    "id": "-jPSYjU8qO9A"
   },
   "outputs": [],
   "source": [
    "def im_convert(tensor):\n",
    "    \n",
    "    image = tensor.to(\"cpu\").clone().detach()\n",
    "    image = image.numpy().squeeze()\n",
    "    image = image.transpose(1,2,0)\n",
    "    image = image * np.array((0.229, 0.224, 0.225)) + np.array((0.485, 0.456, 0.406))\n",
    "    image = image.clip(0, 1)\n",
    "\n",
    "    return image"
   ]
  },
  {
   "cell_type": "code",
   "execution_count": null,
   "metadata": {
    "colab": {
     "base_uri": "https://localhost:8080/",
     "height": 612
    },
    "colab_type": "code",
    "executionInfo": {
     "elapsed": 6144,
     "status": "ok",
     "timestamp": 1547130310957,
     "user": {
      "displayName": "Raashid Tak",
      "photoUrl": "",
      "userId": "07736395178387181349"
     },
     "user_tz": -330
    },
    "id": "p6J1K0EPqXYO",
    "outputId": "6763da24-4834-402b-df12-4a9a44d888e1"
   },
   "outputs": [],
   "source": [
    "fig, (ax1, ax2) = plt.subplots(1, 2, figsize=(20, 10))\n",
    "ax1.imshow(im_convert(content))\n",
    "ax2.imshow(im_convert(style))"
   ]
  },
  {
   "cell_type": "code",
   "execution_count": null,
   "metadata": {
    "colab": {
     "base_uri": "https://localhost:8080/",
     "height": 680
    },
    "colab_type": "code",
    "executionInfo": {
     "elapsed": 1718,
     "status": "ok",
     "timestamp": 1547130317266,
     "user": {
      "displayName": "Raashid Tak",
      "photoUrl": "",
      "userId": "07736395178387181349"
     },
     "user_tz": -330
    },
    "id": "eK4BZwlHqa_S",
    "outputId": "2e7952ed-08cc-419a-97ec-5fd6cd2b5137"
   },
   "outputs": [],
   "source": [
    "print(vgg)"
   ]
  },
  {
   "cell_type": "code",
   "execution_count": null,
   "metadata": {
    "colab": {},
    "colab_type": "code",
    "id": "5vnwxDjVqgny"
   },
   "outputs": [],
   "source": [
    "def get_features(image, model, layers=None):\n",
    "   \n",
    "    if layers is None:\n",
    "        layers = {'0': 'conv1_1',\n",
    "                 '5': 'conv2_1',\n",
    "                 '10': 'conv3_1',\n",
    "                 '19': 'conv4_1',\n",
    "                 '21': 'conv4_2',\n",
    "                 '28': 'conv5_1'}\n",
    "        \n",
    "        \n",
    "    \n",
    "    features = {}\n",
    "    x = image\n",
    "    \n",
    "    for name, layer in model._modules.items():\n",
    "        x = layer(x)\n",
    "        if name in layers:\n",
    "            features[layers[name]] = x\n",
    "    return features        "
   ]
  },
  {
   "cell_type": "code",
   "execution_count": null,
   "metadata": {
    "colab": {},
    "colab_type": "code",
    "id": "bNTvigSrrRTD"
   },
   "outputs": [],
   "source": [
    "def gram_matrix(tensor):\n",
    "    \n",
    "    _, d, h, w = tensor.size()\n",
    "    tensor = tensor.view(d, h*w)\n",
    "    \n",
    "    \n",
    "    gram = torch.mm(tensor, tensor.t())\n",
    "    \n",
    "    return gram"
   ]
  },
  {
   "cell_type": "code",
   "execution_count": null,
   "metadata": {
    "colab": {},
    "colab_type": "code",
    "id": "QZCwfSeEsFe5"
   },
   "outputs": [],
   "source": [
    "content_features = get_features(content, vgg)\n",
    "style_features = get_features(style, vgg)\n",
    "style_grams = {layer: gram_matrix(style_features[layer]) for layer in style_features}\n",
    "target = content.clone().requires_grad_(True).to(device)"
   ]
  },
  {
   "cell_type": "code",
   "execution_count": null,
   "metadata": {
    "colab": {},
    "colab_type": "code",
    "id": "UJIPd0cpslWD"
   },
   "outputs": [],
   "source": [
    "style_weights = {'conv1_1': 1.,\n",
    "                 'conv2_1': 0.8,\n",
    "                 'conv3_1': 0.4,\n",
    "                 'conv4_1': 0.3,\n",
    "                 'conv5_1': 0.3}\n",
    "\n",
    "content_weight = 1 \n",
    "style_weight = 1e7"
   ]
  },
  {
   "cell_type": "code",
   "execution_count": null,
   "metadata": {
    "colab": {},
    "colab_type": "code",
    "id": "EUzE_jGsufc_"
   },
   "outputs": [],
   "source": [
    "show_every = 500\n",
    "\n",
    "optimizer = optim.SGD([target], lr=0.001)\n",
    "steps = 4000  \n",
    "\n",
    "for ii in range(1, steps+1):\n",
    "    \n",
    "    target_features = get_features(target, vgg)\n",
    "    \n",
    "    content_loss = torch.mean((target_features['conv4_2'] - content_features['conv4_2'])**2)\n",
    "    \n",
    "    style_loss = 0\n",
    "    \n",
    "    for layer in style_weights:\n",
    "    \n",
    "        target_feature = target_features[layer]\n",
    "        target_gram = gram_matrix(target_feature)\n",
    "        _, d, h, w = target_feature.shape\n",
    "    \n",
    "        style_gram = style_grams[layer]\n",
    "    \n",
    "        layer_style_loss = style_weights[layer] * torch.mean((target_gram - style_gram)**2)\n",
    "    \n",
    "        style_loss += layer_style_loss / (d * h * w)\n",
    "        \n",
    "    \n",
    "    total_loss = content_weight * content_loss + style_weight * style_loss\n",
    "    \n",
    "    \n",
    "    optimizer.zero_grad()\n",
    "    total_loss.backward()\n",
    "    optimizer.step()\n",
    "    \n",
    "    \n",
    "    if  ii % show_every == 0:\n",
    "        print('Total loss: ', total_loss.item())\n",
    "        plt.imshow(im_convert(target))\n",
    "        plt.show()"
   ]
  },
  {
   "cell_type": "code",
   "execution_count": null,
   "metadata": {
    "colab": {
     "base_uri": "https://localhost:8080/",
     "height": 612
    },
    "colab_type": "code",
    "executionInfo": {
     "elapsed": 3112,
     "status": "ok",
     "timestamp": 1546668943854,
     "user": {
      "displayName": "Raashid Tak",
      "photoUrl": "",
      "userId": "07736395178387181349"
     },
     "user_tz": -330
    },
    "id": "71boza4iw3EY",
    "outputId": "ce0815b2-0021-4daf-c189-1d20d6b97783"
   },
   "outputs": [],
   "source": [
    "fig, (ax1, ax2) = plt.subplots(1, 2, figsize=(20, 10))\n",
    "ax1.imshow(im_convert(content))\n",
    "ax2.imshow(im_convert(target))"
   ]
  },
  {
   "cell_type": "code",
   "execution_count": null,
   "metadata": {
    "colab": {},
    "colab_type": "code",
    "id": "MCcN7cMLBd05"
   },
   "outputs": [],
   "source": []
  }
 ],
 "metadata": {
  "accelerator": "GPU",
  "colab": {
   "collapsed_sections": [],
   "name": "Style Transfer.ipynb",
   "provenance": [],
   "version": "0.3.2"
  },
  "kernelspec": {
   "display_name": "Python 3",
   "language": "python",
   "name": "python3"
  },
  "language_info": {
   "codemirror_mode": {
    "name": "ipython",
    "version": 3
   },
   "file_extension": ".py",
   "mimetype": "text/x-python",
   "name": "python",
   "nbconvert_exporter": "python",
   "pygments_lexer": "ipython3",
   "version": "3.6.5"
  }
 },
 "nbformat": 4,
 "nbformat_minor": 1
}
